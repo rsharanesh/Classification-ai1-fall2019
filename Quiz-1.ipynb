{
  "nbformat": 4,
  "nbformat_minor": 0,
  "metadata": {
    "colab": {
      "name": "Untitled4.ipynb",
      "provenance": [],
      "collapsed_sections": [],
      "include_colab_link": true
    },
    "kernelspec": {
      "name": "python3",
      "display_name": "Python 3"
    },
    "accelerator": "GPU"
  },
  "cells": [
    {
      "cell_type": "markdown",
      "metadata": {
        "id": "view-in-github",
        "colab_type": "text"
      },
      "source": [
        "<a href=\"https://colab.research.google.com/github/rsharanesh/Classification-ai1-fall2019/blob/master/Quiz-1.ipynb\" target=\"_parent\"><img src=\"https://colab.research.google.com/assets/colab-badge.svg\" alt=\"Open In Colab\"/></a>"
      ]
    },
    {
      "cell_type": "code",
      "metadata": {
        "id": "zMY82MMgnfYb",
        "colab_type": "code",
        "colab": {
          "base_uri": "https://localhost:8080/",
          "height": 170
        },
        "outputId": "410613a5-28ff-4bf9-8ae2-48f62183d5fd"
      },
      "source": [
        "import random\n",
        "n=int(input(\"Enter the number of numbers : \"))\n",
        "mean=float(input(\"\\nEnter the mean : \"))\n",
        "std=float(input(\"\\nEnter the standard deviation : \"))\n",
        "sumnum=0\n",
        "sumsq=0\n",
        "file1=open('data.txt','w')\n",
        "for i in range(n):\n",
        "  num=std*(random.uniform(0,1))+mean\n",
        "  file1.write(str(num)+\"\\n\")\n",
        "  sumnum=sumnum+num\n",
        "  sumsq=sumsq+(num*num)\n",
        "randmean=sumnum/n\n",
        "print(\"\\nThe actual mean is : \"+str(randmean))\n",
        "file1.close()\n",
        "\n",
        "sum1=0\n",
        "sumsq1=0\n",
        "file3=open('data.txt','r')\n",
        "while True:\n",
        "  data=file3.readline()\n",
        "  if data!= \"\":\n",
        "    num1=float(data)\n",
        "    sum1+=num1\n",
        "    sumsq1+=num1*num1\n",
        "  else:\n",
        "    break\n",
        "randmean1=sum1/n\n",
        "print(\"\\nThe calculated mean is : \"+str(randmean1))\n",
        "file3.close()"
      ],
      "execution_count": 33,
      "outputs": [
        {
          "output_type": "stream",
          "text": [
            "Enter the number of numbers : 50000000\n",
            "\n",
            "Enter the mean : 5963\n",
            "\n",
            "Enter the standard deviation : .2358552555\n",
            "\n",
            "The actual mean is : 5963.117948618398\n",
            "\n",
            "The calculated mean is : 5963.117948618398\n"
          ],
          "name": "stdout"
        }
      ]
    }
  ]
}